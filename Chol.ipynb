{
 "cells": [
  {
   "cell_type": "code",
   "execution_count": 120,
   "metadata": {},
   "outputs": [
    {
     "data": {
      "text/plain": [
       "Cholesky (generic function with 1 method)"
      ]
     },
     "execution_count": 120,
     "metadata": {},
     "output_type": "execute_result"
    }
   ],
   "source": [
    "function Cholesky(A)\n",
    "    n,m = size(A)\n",
    "    for j in 1:n\n",
    "        if j > 1\n",
    "            A[j:n,j] = A[j:n,j] - A[j:n,1:j-1] * A[j,1:j-1]\n",
    "        end\n",
    "        A[j:n,j] = A[j:n,j]./sqrt(A[j,j])\n",
    "    end\n",
    "    return tril(A)\n",
    "end"
   ]
  },
  {
   "cell_type": "code",
   "execution_count": 123,
   "metadata": {},
   "outputs": [
    {
     "data": {
      "text/plain": [
       "CholeskyPivot (generic function with 1 method)"
      ]
     },
     "execution_count": 123,
     "metadata": {},
     "output_type": "execute_result"
    }
   ],
   "source": [
    "function CholeskyPivot(A)\n",
    "    n,m = size(A)\n",
    "    p = Array(1:n)\n",
    "    for k in 1:n\n",
    "        val,ind = findmax(diag(A)[k:n])\n",
    "        j = ind + k - 1\n",
    "        \n",
    "        swap = p[k]\n",
    "        p[k] = p[j]\n",
    "        p[j] = swap\n",
    "        \n",
    "        swap = A[j,:]\n",
    "        A[j,:] = A[k,:]\n",
    "        A[k,:] = swap\n",
    "        \n",
    "        swap = A[:,j]\n",
    "        A[:,j] = A[:,k]\n",
    "        A[:,k] = swap\n",
    "        \n",
    "        if k > 1\n",
    "            A[k:n,k] = A[k:n,k] - A[k:n,1:k-1] * A[k,1:k-1]\n",
    "        end\n",
    "        A[k:n,k] = A[k:n,k]./sqrt(A[k,k])\n",
    "    end\n",
    "    return tril(A),p\n",
    "end"
   ]
  },
  {
   "cell_type": "code",
   "execution_count": null,
   "metadata": {
    "collapsed": true
   },
   "outputs": [],
   "source": []
  }
 ],
 "metadata": {
  "kernelspec": {
   "display_name": "Julia 0.6.0",
   "language": "julia",
   "name": "julia-0.6"
  },
  "language_info": {
   "file_extension": ".jl",
   "mimetype": "application/julia",
   "name": "julia",
   "version": "0.6.0"
  }
 },
 "nbformat": 4,
 "nbformat_minor": 2
}
